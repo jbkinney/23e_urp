{
  "nbformat": 4,
  "nbformat_minor": 0,
  "metadata": {
    "colab": {
      "provenance": [],
      "private_outputs": true
    },
    "kernelspec": {
      "name": "python3",
      "display_name": "Python 3"
    },
    "language_info": {
      "name": "python"
    }
  },
  "cells": [
    {
      "cell_type": "markdown",
      "source": [
        "# Data analysis and visualization (Day 2)\n",
        "\n",
        "Today we will be continuing our journey with Pandas and Seaborn."
      ],
      "metadata": {
        "id": "lS8PTzm2DKW4"
      }
    },
    {
      "cell_type": "markdown",
      "source": [
        "# Review of Day 1\n",
        "\n",
        "## 1. What is Pandas?\n",
        "\n",
        "## 2. What is Seaborn?\n",
        "\n",
        "## 3. What is a Pandas DataFrame?\n",
        "\n",
        "## 4. Some coding review:"
      ],
      "metadata": {
        "id": "kf0p3P-5E1i_"
      }
    },
    {
      "cell_type": "code",
      "source": [
        "import pandas as pd\n",
        "import seaborn as sns\n",
        "# Seaborn has a set of example datasets so we use it to load Penguins.\n",
        "df = sns.load_dataset(\"penguins\")\n",
        "print(f\"`df` has type {type(df)}\")\n",
        "# QUESTION: what does df.head() do?\n",
        "df.head()"
      ],
      "metadata": {
        "id": "0m-E2R98Fd2a"
      },
      "execution_count": null,
      "outputs": []
    },
    {
      "cell_type": "code",
      "source": [
        "# How can we show the last 5 rows of this dataframe?\n"
      ],
      "metadata": {
        "id": "nwc65TkqE3O6"
      },
      "execution_count": null,
      "outputs": []
    },
    {
      "cell_type": "code",
      "source": [
        "# How do we select the column \"island\"?\n"
      ],
      "metadata": {
        "id": "RqiMZyLmGMLT"
      },
      "execution_count": null,
      "outputs": []
    },
    {
      "cell_type": "code",
      "source": [
        "# How do we calculate the mean of column \"bill_depth_mm\" ?\n"
      ],
      "metadata": {
        "id": "XbQSiAs0E3Cn"
      },
      "execution_count": null,
      "outputs": []
    },
    {
      "cell_type": "code",
      "source": [
        "# How do you count the number is NaN values in `bill_length_mm` ?"
      ],
      "metadata": {
        "id": "hMvOxDBR73YJ"
      },
      "execution_count": null,
      "outputs": []
    },
    {
      "cell_type": "code",
      "execution_count": null,
      "metadata": {
        "id": "tGyd2iuhC-QJ"
      },
      "outputs": [],
      "source": [
        "# How do we set a new column with the product of \"bill_length_mm\" and \"bill_depth_mm\" ?\n"
      ]
    },
    {
      "cell_type": "code",
      "source": [
        "# How can we make a scatter plot of 'bill_length_mm' by 'bill_depth_mm' ?\n"
      ],
      "metadata": {
        "id": "bH4rNX0ozXDV"
      },
      "execution_count": null,
      "outputs": []
    },
    {
      "cell_type": "code",
      "source": [
        "# What is a Pandas Series?\n"
      ],
      "metadata": {
        "id": "0d_9GimfzWvK"
      },
      "execution_count": null,
      "outputs": []
    },
    {
      "cell_type": "markdown",
      "source": [
        "# Loading and saving data in Pandas"
      ],
      "metadata": {
        "id": "LUPKOkvSIR5A"
      }
    },
    {
      "cell_type": "code",
      "source": [
        "import pandas as pd\n",
        "import seaborn as sns\n",
        "\n",
        "# Load a sample dataset from Seaborn's repository\n",
        "df = sns.load_dataset(\"taxis\")\n",
        "# What is the type of df?\n",
        "df.head()"
      ],
      "metadata": {
        "id": "JZCUIopCIXLi"
      },
      "execution_count": null,
      "outputs": []
    },
    {
      "cell_type": "markdown",
      "source": [
        "Pandas DataFrames have a variety of methods with the pattern \".to_FORMAT\" where FORMAT is the saving format. CSV and Excel are two common options.\n",
        "\n",
        "See the documentation at https://pandas.pydata.org/docs/user_guide/io.html"
      ],
      "metadata": {
        "id": "evFD-gryJqdf"
      }
    },
    {
      "cell_type": "code",
      "source": [
        "# Show the help message for this function.\n",
        "# This only works in Jupyter Notebooks and Colab (not in scripts).\n",
        "df.to_csv?"
      ],
      "metadata": {
        "id": "9pdwmcAUKBK6"
      },
      "execution_count": null,
      "outputs": []
    },
    {
      "cell_type": "code",
      "source": [
        "# Save to a file.\n",
        "df.to_csv(\"mytaxis.csv\")"
      ],
      "metadata": {
        "id": "jShvBHQJDIAj"
      },
      "execution_count": null,
      "outputs": []
    },
    {
      "cell_type": "markdown",
      "source": [
        "To load a file, use one of the many functions with the pattern \"pd.read_FORMAT\"."
      ],
      "metadata": {
        "id": "6w5rxN6UKIO0"
      }
    },
    {
      "cell_type": "code",
      "source": [
        "pd.read_csv?"
      ],
      "metadata": {
        "id": "Q6J3e6IBDH-J"
      },
      "execution_count": null,
      "outputs": []
    },
    {
      "cell_type": "code",
      "source": [
        "# Read the file!\n",
        "df = pd.read_csv(\"mytaxis.csv\")\n",
        "df.head()"
      ],
      "metadata": {
        "id": "tJcbvV_wDH8D"
      },
      "execution_count": null,
      "outputs": []
    },
    {
      "cell_type": "markdown",
      "source": [
        "# Group By\n",
        "\n",
        "There are often groups in our data. In the taxis data, for example, one can group by taxi color or the pickup borough and perform calculations on each of the groups. With this, you can answer the question, \"Does the tip vary by the color of the taxi?"
      ],
      "metadata": {
        "id": "qI_JsR7S2YvS"
      }
    },
    {
      "cell_type": "code",
      "source": [
        "# First, let's load the dataset again...\n",
        "df = sns.load_dataset(\"taxis\")"
      ],
      "metadata": {
        "id": "xeuI0OHUAql6"
      },
      "execution_count": null,
      "outputs": []
    },
    {
      "cell_type": "code",
      "source": [
        "df[\"color\"].value_counts()"
      ],
      "metadata": {
        "id": "wnj6WWhs3AC_"
      },
      "execution_count": null,
      "outputs": []
    },
    {
      "cell_type": "code",
      "source": [
        "df.groupby(\"color\")[\"tip\"].mean()"
      ],
      "metadata": {
        "id": "qs6zAioM4vXv"
      },
      "execution_count": null,
      "outputs": []
    },
    {
      "cell_type": "code",
      "source": [
        "df.groupby(\"color\").agg({\"tip\": \"mean\"})"
      ],
      "metadata": {
        "id": "cnbLkCUc4jdl"
      },
      "execution_count": null,
      "outputs": []
    },
    {
      "cell_type": "code",
      "source": [
        "df.groupby(\"color\")[\"tip\"].describe()"
      ],
      "metadata": {
        "id": "9ijKGu2O205Z"
      },
      "execution_count": null,
      "outputs": []
    },
    {
      "cell_type": "markdown",
      "source": [
        "# Plotting by category"
      ],
      "metadata": {
        "id": "f1JNJ2f_9rWB"
      }
    },
    {
      "cell_type": "code",
      "source": [
        "sns.set_context(\"talk\")  # Make text bigger.\n",
        "sns.countplot(data=df, x=\"passengers\")"
      ],
      "metadata": {
        "id": "W5tDZCih_EQq"
      },
      "execution_count": null,
      "outputs": []
    },
    {
      "cell_type": "code",
      "source": [
        "sns.countplot(data=df, x=\"pickup_borough\")"
      ],
      "metadata": {
        "id": "JGa0iPQK_JlI"
      },
      "execution_count": null,
      "outputs": []
    },
    {
      "cell_type": "code",
      "source": [
        "sns.countplot(data=df, x=\"passengers\", hue=\"pickup_borough\")"
      ],
      "metadata": {
        "id": "_CukbQt09ogz"
      },
      "execution_count": null,
      "outputs": []
    },
    {
      "cell_type": "markdown",
      "source": [
        "### Now with scatter plots!! And datetime!\n",
        "\n",
        "Introducing datetime types!"
      ],
      "metadata": {
        "id": "0AOd4ypT_3pb"
      }
    },
    {
      "cell_type": "code",
      "source": [
        "# Let's inspect the dtypes. We expect that pickup and dropoff will be datetime objects.\n",
        "df.dtypes"
      ],
      "metadata": {
        "id": "nNPVKGEVAMcf"
      },
      "execution_count": null,
      "outputs": []
    },
    {
      "cell_type": "code",
      "source": [
        "# What does this do?\n",
        "df[\"dropoff\"] - df[\"pickup\"]"
      ],
      "metadata": {
        "id": "7ZM1pWec_74h"
      },
      "execution_count": null,
      "outputs": []
    },
    {
      "cell_type": "code",
      "source": [
        "df[\"duration\"] = df[\"dropoff\"] - df[\"pickup\"]"
      ],
      "metadata": {
        "id": "VXxOAEyOAMAV"
      },
      "execution_count": null,
      "outputs": []
    },
    {
      "cell_type": "code",
      "source": [
        "# Let's get the duration in seconds. This will allow us to plot this more easily...\n",
        "df[\"duration_sec\" ] = df[\"duration\"].dt.seconds"
      ],
      "metadata": {
        "id": "rsgujQbKCHsj"
      },
      "execution_count": null,
      "outputs": []
    },
    {
      "cell_type": "code",
      "source": [
        "df.dtypes"
      ],
      "metadata": {
        "id": "IcXiMXBiBify"
      },
      "execution_count": null,
      "outputs": []
    },
    {
      "cell_type": "code",
      "source": [
        "sns.scatterplot(data=df, x=\"duration_sec\", y=\"tip\")"
      ],
      "metadata": {
        "id": "26Rk7eHyA9gy"
      },
      "execution_count": null,
      "outputs": []
    },
    {
      "cell_type": "markdown",
      "source": [
        "## Quick detour into linear regression\n",
        "\n",
        "We have seen the plot of Tip by Trip Duration. What's the relationship between these two features.\n",
        "\n",
        "Scikit-learn is _the_ machine learning library for Python.\n",
        "\n",
        "Use it for classical machine learning methods like linear regression and random forests. Do not use it for deep learning.\n",
        "\n",
        "See [the docs](https://scikit-learn.org/stable/modules/generated/sklearn.linear_model.LinearRegression.html) for information on Linear Regression in Scikit Learn."
      ],
      "metadata": {
        "id": "K7VZ6sTvCqRe"
      }
    },
    {
      "cell_type": "code",
      "source": [
        "import matplotlib.pyplot as plt\n",
        "from sklearn.linear_model import LinearRegression\n",
        "from sklearn.model_selection import train_test_split"
      ],
      "metadata": {
        "id": "138zt5TUCpZS"
      },
      "execution_count": null,
      "outputs": []
    },
    {
      "cell_type": "code",
      "source": [
        "df_train, df_test = train_test_split(df, random_state=42)"
      ],
      "metadata": {
        "id": "v9h9TwufDXG8"
      },
      "execution_count": null,
      "outputs": []
    },
    {
      "cell_type": "code",
      "source": [
        "linreg = LinearRegression()"
      ],
      "metadata": {
        "id": "7n8wxE7rCpWh"
      },
      "execution_count": null,
      "outputs": []
    },
    {
      "cell_type": "code",
      "source": [
        "linreg.fit(df_train[[\"duration_sec\"]], df_train[[\"tip\"]])"
      ],
      "metadata": {
        "id": "72MAyQXv9obc"
      },
      "execution_count": null,
      "outputs": []
    },
    {
      "cell_type": "code",
      "source": [
        "y_pred = linreg.predict(df_test[[\"duration_sec\"]])\n",
        "print(f\"Shape of y_pred is {y_pred.shape}\")\n",
        "y_pred = y_pred.squeeze()\n",
        "print(f\"After squeezing, shape of y_pred is {y_pred.shape}\")"
      ],
      "metadata": {
        "id": "NUOTKNLBDiML"
      },
      "execution_count": null,
      "outputs": []
    },
    {
      "cell_type": "code",
      "source": [
        "sns.scatterplot(x=df_test[\"tip\"], y=y_pred)\n",
        "plt.xlabel(\"Ground truth tip\")\n",
        "plt.ylabel(\"Predicted tip\")"
      ],
      "metadata": {
        "id": "dkyhDLFkEv_H"
      },
      "execution_count": null,
      "outputs": []
    },
    {
      "cell_type": "code",
      "source": [
        "from scipy import stats\n",
        "\n",
        "result = stats.pearsonr(df_test[\"tip\"], y_pred)\n",
        "# This is a namedtuple object.\n",
        "result"
      ],
      "metadata": {
        "id": "1QVTh2qqE7X8"
      },
      "execution_count": null,
      "outputs": []
    },
    {
      "cell_type": "code",
      "source": [
        "result.statistic"
      ],
      "metadata": {
        "id": "amQjbK06Dh5-"
      },
      "execution_count": null,
      "outputs": []
    },
    {
      "cell_type": "code",
      "source": [
        "result.pvalue"
      ],
      "metadata": {
        "id": "838sJ_lY203b"
      },
      "execution_count": null,
      "outputs": []
    },
    {
      "cell_type": "markdown",
      "source": [
        "# Set values conditionally\n",
        "\n",
        "Let's say we want to add new values to the dataframe based on existing data. Here's how we can do that.\n",
        "\n",
        "In the example below, we will create a new column indicating whether the tip was high or low based on the median tip."
      ],
      "metadata": {
        "id": "Xy9W5xHR1Yw4"
      }
    },
    {
      "cell_type": "code",
      "source": [
        "sns.displot(data=df, x=\"tip\")  # Make plot...\n",
        "sns.despine()  # Remove the top and right borders."
      ],
      "metadata": {
        "id": "NRq-0ucn_ZIc"
      },
      "execution_count": null,
      "outputs": []
    },
    {
      "cell_type": "code",
      "source": [
        "median_tip = df[\"tip\"].median()\n",
        "median_tip"
      ],
      "metadata": {
        "id": "Bu0pGHqO6GQI"
      },
      "execution_count": null,
      "outputs": []
    },
    {
      "cell_type": "code",
      "source": [
        "# This creates a boolean Series, where True indicates a value above the median.\n",
        "mask_high_tipper = df[\"tip\"] > median_tip\n",
        "\n",
        "# The tilde ~ is the NOT operator. NOT True is False. NOT False is True.\n",
        "mask_low_tipper = ~mask_high_tipper"
      ],
      "metadata": {
        "id": "DMJ9xiM07ohb"
      },
      "execution_count": null,
      "outputs": []
    },
    {
      "cell_type": "code",
      "source": [
        "mask_high_tipper.head()"
      ],
      "metadata": {
        "id": "dfaEpmn_741E"
      },
      "execution_count": null,
      "outputs": []
    },
    {
      "cell_type": "code",
      "source": [
        "mask_low_tipper.head()"
      ],
      "metadata": {
        "id": "M6MhSo4M7ofP"
      },
      "execution_count": null,
      "outputs": []
    },
    {
      "cell_type": "code",
      "source": [
        "df.loc[mask_high_tipper, \"tipper_class\"] = \"high\""
      ],
      "metadata": {
        "id": "kCL4AIPJ8HiG"
      },
      "execution_count": null,
      "outputs": []
    },
    {
      "cell_type": "code",
      "source": [
        "df[\"tipper_class\"].head()"
      ],
      "metadata": {
        "id": "NpmfKI8t8HST"
      },
      "execution_count": null,
      "outputs": []
    },
    {
      "cell_type": "code",
      "source": [
        "df.loc[mask_low_tipper, \"tipper_class\"] = \"low\""
      ],
      "metadata": {
        "id": "fHg9QEMK8PKl"
      },
      "execution_count": null,
      "outputs": []
    },
    {
      "cell_type": "code",
      "source": [
        "df[\"tipper_class\"].head()"
      ],
      "metadata": {
        "id": "l-01w_yp8PI8"
      },
      "execution_count": null,
      "outputs": []
    },
    {
      "cell_type": "code",
      "source": [
        "df[\"tipper_class\"].value_counts()"
      ],
      "metadata": {
        "id": "smdciA3-6kwJ"
      },
      "execution_count": null,
      "outputs": []
    },
    {
      "cell_type": "code",
      "source": [],
      "metadata": {
        "id": "DaVOmmEg6-Wx"
      },
      "execution_count": null,
      "outputs": []
    },
    {
      "cell_type": "markdown",
      "source": [
        "We can combine multiple conditions when making boolean masks.\n",
        "\n",
        "`&` is logical AND. `|` is local OR."
      ],
      "metadata": {
        "id": "3PWTuD7o8eBG"
      }
    },
    {
      "cell_type": "code",
      "source": [
        "(df[\"color\"] == \"yellow\") & (df[\"tipper_class\"] == \"low\")"
      ],
      "metadata": {
        "id": "CDRxcd536rUu"
      },
      "execution_count": null,
      "outputs": []
    },
    {
      "cell_type": "code",
      "source": [
        "sns.displot(data=df, x=\"distance\")"
      ],
      "metadata": {
        "id": "LXyPXlbLDH6W"
      },
      "execution_count": null,
      "outputs": []
    },
    {
      "cell_type": "code",
      "source": [],
      "metadata": {
        "id": "HAbXXHYHKZo7"
      },
      "execution_count": null,
      "outputs": []
    },
    {
      "cell_type": "code",
      "source": [],
      "metadata": {
        "id": "Psf05PlmKuPa"
      },
      "execution_count": null,
      "outputs": []
    },
    {
      "cell_type": "markdown",
      "source": [
        "# Merging data frames\n",
        "\n",
        "Merging is a very powerful tool. If two data frames share a common column, we can combine the data frames based on that column.\n",
        "\n",
        "See https://pandas.pydata.org/docs/user_guide/merging.html for more information."
      ],
      "metadata": {
        "id": "9IrqEbqeG5ce"
      }
    },
    {
      "cell_type": "code",
      "source": [
        "import seaborn as sns\n",
        "\n",
        "df = sns.load_dataset(\"mpg\")\n",
        "df.head()"
      ],
      "metadata": {
        "id": "AKHUQFMdKuNW"
      },
      "execution_count": null,
      "outputs": []
    },
    {
      "cell_type": "code",
      "source": [
        "df.query(\"cylinders == 5\")"
      ],
      "metadata": {
        "id": "Y3cVmlsVHlmr"
      },
      "execution_count": null,
      "outputs": []
    },
    {
      "cell_type": "code",
      "source": [
        "df[\"cylinders\"].value_counts()"
      ],
      "metadata": {
        "id": "4ic_tqUiKuLc"
      },
      "execution_count": null,
      "outputs": []
    },
    {
      "cell_type": "code",
      "source": [
        "notes_dict = {\n",
        "    3: \"cool engine!\",\n",
        "    4: \"normal, economical\",\n",
        "    5: \"unique!\",\n",
        "    6: \"normal, powerful\",\n",
        "    8: \"oh goodness!\"\n",
        "}\n",
        "df_notes = pd.DataFrame.from_dict(notes_dict, orient=\"index\", columns=[\"engine_notes\"])\n",
        "df_notes.index.name = \"cylinders\"\n",
        "df_notes = df_notes.reset_index()\n",
        "df_notes.head()"
      ],
      "metadata": {
        "id": "VeZ7Pm2LK_6O"
      },
      "execution_count": null,
      "outputs": []
    },
    {
      "cell_type": "code",
      "source": [
        "df.merge(df_notes)"
      ],
      "metadata": {
        "id": "7qd0ucozI2nc"
      },
      "execution_count": null,
      "outputs": []
    },
    {
      "cell_type": "markdown",
      "source": [
        "# Customizing plots\n",
        "\n",
        "We will be going through some examples from Seaborn's website https://seaborn.pydata.org/tutorial/aesthetics.html"
      ],
      "metadata": {
        "id": "jDJ_1GyqJl8y"
      }
    },
    {
      "cell_type": "code",
      "source": [
        "import numpy as np\n",
        "import seaborn as sns\n",
        "import matplotlib.pyplot as plt\n",
        "\n",
        "def sinplot(n=10, flip=1):\n",
        "    \"\"\"Make a plot of a few sin functions.\"\"\"\n",
        "    x = np.linspace(0, 14, 100)\n",
        "    for i in range(1, n + 1):\n",
        "        plt.plot(x, np.sin(x + i * .5) * (n + 2 - i) * flip)"
      ],
      "metadata": {
        "id": "xsC45dVzJnmn"
      },
      "execution_count": null,
      "outputs": []
    },
    {
      "cell_type": "code",
      "source": [
        "sinplot()"
      ],
      "metadata": {
        "id": "mvUFw99Z8rd5"
      },
      "execution_count": null,
      "outputs": []
    },
    {
      "cell_type": "markdown",
      "source": [
        "Seaborn has a function `set_theme()` which offers stylistic control. See https://seaborn.pydata.org/generated/seaborn.set_theme.html#seaborn.set_theme for more information.\n",
        "\n",
        "Seaborn groups matplotlib parameters into \"style\" and \"context\". Style controls style... context controls the scale of the plot."
      ],
      "metadata": {
        "id": "iQmLflkn8xGN"
      }
    },
    {
      "cell_type": "code",
      "source": [
        "sns.set_theme(context=\"notebook\", style=\"darkgrid\")\n",
        "sinplot()"
      ],
      "metadata": {
        "id": "FCdH2bUb8wSZ"
      },
      "execution_count": null,
      "outputs": []
    },
    {
      "cell_type": "markdown",
      "source": [
        "Seaborn has several preset styles: `darkgrid`, `whitegrid`, `dark`, `white`, and `ticks`."
      ],
      "metadata": {
        "id": "SZtQaqKU9hcp"
      }
    },
    {
      "cell_type": "code",
      "source": [
        "sns.set_style(\"whitegrid\")\n",
        "data = np.random.normal(size=(20, 6)) + np.arange(6) / 2\n",
        "sns.boxplot(data=data)"
      ],
      "metadata": {
        "id": "-Jhprvw6K_2M"
      },
      "execution_count": null,
      "outputs": []
    },
    {
      "cell_type": "code",
      "source": [
        "sns.set_style(\"dark\")\n",
        "sinplot()"
      ],
      "metadata": {
        "id": "kDxO6uWx9_km"
      },
      "execution_count": null,
      "outputs": []
    },
    {
      "cell_type": "code",
      "source": [
        "sns.set_style(\"white\")\n",
        "sinplot()"
      ],
      "metadata": {
        "id": "95bWbD0m-ZYR"
      },
      "execution_count": null,
      "outputs": []
    },
    {
      "cell_type": "code",
      "source": [
        "sns.set_style(\"ticks\")\n",
        "sinplot()"
      ],
      "metadata": {
        "id": "SlwYpQIE-ZTJ"
      },
      "execution_count": null,
      "outputs": []
    },
    {
      "cell_type": "markdown",
      "source": [
        "The top and right axes spines can be removed in many cases."
      ],
      "metadata": {
        "id": "cVHmQ4Da-dSk"
      }
    },
    {
      "cell_type": "code",
      "source": [
        "sinplot()\n",
        "sns.despine()"
      ],
      "metadata": {
        "id": "3Xx6kd559_c5"
      },
      "execution_count": null,
      "outputs": []
    },
    {
      "cell_type": "code",
      "source": [
        "f, ax = plt.subplots()\n",
        "sns.violinplot(data=data)\n",
        "sns.despine(offset=10, trim=True)"
      ],
      "metadata": {
        "id": "5VbsERMc-jAp"
      },
      "execution_count": null,
      "outputs": []
    },
    {
      "cell_type": "code",
      "source": [
        "sns.set_style(\"whitegrid\")\n",
        "sns.boxplot(data=data, palette=\"deep\")\n",
        "sns.despine(left=True)"
      ],
      "metadata": {
        "id": "Kl8gd1eF-oKc"
      },
      "execution_count": null,
      "outputs": []
    },
    {
      "cell_type": "markdown",
      "source": [
        "You can use context managers (the `with` statement) to temporarily set a style."
      ],
      "metadata": {
        "id": "2zKmL4JX-wBC"
      }
    },
    {
      "cell_type": "code",
      "source": [
        "f = plt.figure(figsize=(6, 6))\n",
        "gs = f.add_gridspec(2, 2)\n",
        "\n",
        "with sns.axes_style(\"darkgrid\"):\n",
        "    ax = f.add_subplot(gs[0, 0])\n",
        "    sinplot(6)\n",
        "\n",
        "with sns.axes_style(\"white\"):\n",
        "    ax = f.add_subplot(gs[0, 1])\n",
        "    sinplot(6)\n",
        "\n",
        "with sns.axes_style(\"ticks\"):\n",
        "    ax = f.add_subplot(gs[1, 0])\n",
        "    sinplot(6)\n",
        "\n",
        "with sns.axes_style(\"whitegrid\"):\n",
        "    ax = f.add_subplot(gs[1, 1])\n",
        "    sinplot(6)\n",
        "\n",
        "f.tight_layout()"
      ],
      "metadata": {
        "id": "t6F6a36y-i9O"
      },
      "execution_count": null,
      "outputs": []
    },
    {
      "cell_type": "markdown",
      "source": [
        "View all of the different style parameters using `sns.axes_style()`:"
      ],
      "metadata": {
        "id": "NFPnMQQD-7T8"
      }
    },
    {
      "cell_type": "code",
      "source": [
        "sns.axes_style()"
      ],
      "metadata": {
        "id": "6yvsxpSs-6uB"
      },
      "execution_count": null,
      "outputs": []
    },
    {
      "cell_type": "code",
      "source": [
        "sns.set_style(\"darkgrid\", {\"axes.facecolor\": \".9\"})\n",
        "sinplot()"
      ],
      "metadata": {
        "id": "NULagHDW-_FF"
      },
      "execution_count": null,
      "outputs": []
    },
    {
      "cell_type": "code",
      "source": [],
      "metadata": {
        "id": "8jHLK_Rr-_B8"
      },
      "execution_count": null,
      "outputs": []
    },
    {
      "cell_type": "markdown",
      "source": [
        "### Scaling plot elements"
      ],
      "metadata": {
        "id": "0UhQ3ozC_ZY3"
      }
    },
    {
      "cell_type": "code",
      "source": [
        "# Reset the theme\n",
        "sns.set_theme()"
      ],
      "metadata": {
        "id": "1KhoVMkD---H"
      },
      "execution_count": null,
      "outputs": []
    },
    {
      "cell_type": "code",
      "source": [
        "sns.set_context(\"paper\")\n",
        "sinplot()"
      ],
      "metadata": {
        "id": "jgWOLtFl-itq"
      },
      "execution_count": null,
      "outputs": []
    },
    {
      "cell_type": "code",
      "source": [
        "sns.set_context(\"talk\")\n",
        "sinplot()"
      ],
      "metadata": {
        "id": "7N24nECYKtuf"
      },
      "execution_count": null,
      "outputs": []
    },
    {
      "cell_type": "code",
      "source": [
        "sns.set_context(\"poster\")\n",
        "sinplot()"
      ],
      "metadata": {
        "id": "O2fiU5Jp_eHg"
      },
      "execution_count": null,
      "outputs": []
    },
    {
      "cell_type": "code",
      "source": [
        "sns.set_context(\"notebook\", font_scale=1.5, rc={\"lines.linewidth\": 2.5})\n",
        "sinplot()"
      ],
      "metadata": {
        "id": "Digp9vIP_eFi"
      },
      "execution_count": null,
      "outputs": []
    },
    {
      "cell_type": "markdown",
      "source": [
        "### Customizing plots with matplotlib\n",
        "\n",
        "Seaborn is built on top of matplotlib. We can use matplotlib methods to further customize our plots."
      ],
      "metadata": {
        "id": "OSThvroJAL-R"
      }
    },
    {
      "cell_type": "code",
      "source": [
        "sinplot()\n",
        "plt.title(\"Arbitrary sin waves\", fontweight=\"bold\")\n",
        "plt.xlabel(\"Time\")\n",
        "plt.ylabel(\"Amplitude\")"
      ],
      "metadata": {
        "id": "ah_lDPa1_oHd"
      },
      "execution_count": null,
      "outputs": []
    },
    {
      "cell_type": "markdown",
      "source": [
        "#### Multiple figures\n",
        "\n",
        "Use `plt.subplots()` to create multiple figures."
      ],
      "metadata": {
        "id": "DBMKm4R5AoDW"
      }
    },
    {
      "cell_type": "code",
      "source": [
        "data.shape"
      ],
      "metadata": {
        "id": "NHDSX2pRAxVN"
      },
      "execution_count": null,
      "outputs": []
    },
    {
      "cell_type": "code",
      "source": [
        "# Make the scale a bit smaller.\n",
        "sns.set_context(\"paper\")"
      ],
      "metadata": {
        "id": "7lxDjz6_DK6f"
      },
      "execution_count": null,
      "outputs": []
    },
    {
      "cell_type": "code",
      "source": [
        "fig, axes = plt.subplots(nrows=5, ncols=4, figsize=(10, 10))\n",
        "for i, ax in enumerate(axes.flat):\n",
        "    ax.plot(data[i])\n",
        "    ax.set_title(f\"Plot number {i}\")\n",
        "fig.tight_layout()"
      ],
      "metadata": {
        "id": "Si0dJFxQ_oFR"
      },
      "execution_count": null,
      "outputs": []
    },
    {
      "cell_type": "code",
      "source": [],
      "metadata": {
        "id": "1sqyFWg4_oBe"
      },
      "execution_count": null,
      "outputs": []
    },
    {
      "cell_type": "code",
      "source": [],
      "metadata": {
        "id": "ebmzXdt__eDi"
      },
      "execution_count": null,
      "outputs": []
    },
    {
      "cell_type": "code",
      "source": [],
      "metadata": {
        "id": "yMAB4bLL_eBe"
      },
      "execution_count": null,
      "outputs": []
    }
  ]
}